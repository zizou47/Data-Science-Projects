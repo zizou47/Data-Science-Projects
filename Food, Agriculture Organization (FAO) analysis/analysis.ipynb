{
 "cells": [
  {
   "cell_type": "markdown",
   "id": "e7316a32",
   "metadata": {},
   "source": [
    "<div style=\" background-color: RGB(0,114,200);\" >\n",
    "<h1 style=\"margin: auto; padding: 20px 0; color:#fff; text-align: center\">PROJET OF DATA ANALYSIS</h1>\n",
    "<h2 style=\"margin: auto; padding: 20px 0; color:#fff; text-align: center\">FAO Study\n",
    "</h2>\n",
    "</div>"
   ]
  },
  {
   "cell_type": "markdown",
   "id": "4ca60c24",
   "metadata": {},
   "source": [
    "![FAO](FAO.png)\n"
   ]
  },
  {
   "cell_type": "markdown",
   "id": "6e00fa8a",
   "metadata": {},
   "source": [
    "# RESEARCH QUESTION\n",
    "\n",
    "* What are the global trends in undernutrition over the past decade, and which regions have been most affected?\n",
    "* How factors such as import, disponibility... correlate with undernutrition rates in different countries?\n",
    "* which demographic groups have been most vulnerable? which country import most, have most disponibility... in 2017\n",
    "\n",
    "\n",
    "\n"
   ]
  },
  {
   "cell_type": "markdown",
   "id": "c0c495ba",
   "metadata": {},
   "source": [
    "Source of dataset : https://www.kaggle.com/code/alizechasse/fao-study/notebook"
   ]
  },
  {
   "cell_type": "markdown",
   "id": "9dad8326",
   "metadata": {},
   "source": [
    "<div style=\"background-color: RGB(0,150,250);\" >\n",
    "<h2 style=\"margin: auto; padding: 20px; color:#fff; \">Step 1 - Importation of librairies and loading data</h2>\n",
    "</div>"
   ]
  },
  {
   "cell_type": "markdown",
   "id": "4ee69457",
   "metadata": {},
   "source": [
    "<div style=\"border: 1px solid RGB(0,150,250);\" >\n",
    "<h3 style=\"margin: auto; padding: 20px; color: RGB(0,150,250); \">1.1 - Importation of librairies</h3>\n",
    "</div>"
   ]
  },
  {
   "cell_type": "code",
   "execution_count": 803,
   "id": "ffe62b56",
   "metadata": {},
   "outputs": [],
   "source": [
    "import pandas as pd\n",
    "import numpy as np"
   ]
  },
  {
   "cell_type": "markdown",
   "id": "8bd8e7ed",
   "metadata": {},
   "source": [
    "<div style=\"border: 1px solid RGB(0,150,250);\" >\n",
    "<h3 style=\"margin: auto; padding: 20px; color: RGB(0,150,250); \">1.2 - Load csv files</h3>\n",
    "</div>"
   ]
  },
  {
   "cell_type": "code",
   "execution_count": 804,
   "id": "b304f108",
   "metadata": {},
   "outputs": [],
   "source": [
    "# population.csv\n",
    "population = pd.read_csv('./data/population.csv', sep=',')\n",
    "\n",
    "# disponibility.csv\n",
    "disponibility = pd.read_csv('./data/disponibility.csv', sep=',')\n",
    "\n",
    "# alimentary.csv\n",
    "alimentary = pd.read_csv('./data/alimentary.csv', sep=',')\n",
    "\n",
    "# nutrition.csv\n",
    "nutrition = pd.read_csv('./data/nutrition.csv', sep=',')\n"
   ]
  },
  {
   "cell_type": "markdown",
   "id": "1249847a",
   "metadata": {},
   "source": [
    "<div style=\"background-color: RGB(0,150,250);\" >\n",
    "<h2 style=\"margin: auto; padding: 20px; color:#fff; \">Step 2 - EDA</h2>\n",
    "</div>"
   ]
  },
  {
   "cell_type": "markdown",
   "id": "235e6e91",
   "metadata": {},
   "source": [
    "<div style=\"border: 1px solid RGB(0,150,250);\" >\n",
    "<h3 style=\"margin: auto; padding: 20px; color: RGB(0,150,250); \">2.1 - EDA of population</h3>\n",
    "</div>"
   ]
  },
  {
   "cell_type": "code",
   "execution_count": 805,
   "id": "4221bb22",
   "metadata": {},
   "outputs": [
    {
     "name": "stdout",
     "output_type": "stream",
     "text": [
      "<class 'pandas.core.frame.DataFrame'>\n",
      "RangeIndex: 1416 entries, 0 to 1415\n",
      "Data columns (total 3 columns):\n",
      " #   Column      Non-Null Count  Dtype  \n",
      "---  ------      --------------  -----  \n",
      " 0   country     1416 non-null   object \n",
      " 1   year        1416 non-null   int64  \n",
      " 2   Population  1416 non-null   float64\n",
      "dtypes: float64(1), int64(1), object(1)\n",
      "memory usage: 33.3+ KB\n"
     ]
    }
   ],
   "source": [
    "population.info()"
   ]
  },
  {
   "cell_type": "markdown",
   "id": "d5319669",
   "metadata": {},
   "source": [
    "* no nan values\n",
    "* 1416 rows, 3 columns\n",
    "* population dtype is float which need to be changed"
   ]
  },
  {
   "cell_type": "code",
   "execution_count": 806,
   "id": "e6b639d2",
   "metadata": {},
   "outputs": [
    {
     "data": {
      "text/html": [
       "<div>\n",
       "<style scoped>\n",
       "    .dataframe tbody tr th:only-of-type {\n",
       "        vertical-align: middle;\n",
       "    }\n",
       "\n",
       "    .dataframe tbody tr th {\n",
       "        vertical-align: top;\n",
       "    }\n",
       "\n",
       "    .dataframe thead th {\n",
       "        text-align: right;\n",
       "    }\n",
       "</style>\n",
       "<table border=\"1\" class=\"dataframe\">\n",
       "  <thead>\n",
       "    <tr style=\"text-align: right;\">\n",
       "      <th></th>\n",
       "      <th>country</th>\n",
       "      <th>year</th>\n",
       "      <th>Population</th>\n",
       "    </tr>\n",
       "  </thead>\n",
       "  <tbody>\n",
       "    <tr>\n",
       "      <th>0</th>\n",
       "      <td>Afghanistan</td>\n",
       "      <td>2013</td>\n",
       "      <td>32269.589</td>\n",
       "    </tr>\n",
       "    <tr>\n",
       "      <th>1</th>\n",
       "      <td>Afghanistan</td>\n",
       "      <td>2014</td>\n",
       "      <td>33370.794</td>\n",
       "    </tr>\n",
       "    <tr>\n",
       "      <th>2</th>\n",
       "      <td>Afghanistan</td>\n",
       "      <td>2015</td>\n",
       "      <td>34413.603</td>\n",
       "    </tr>\n",
       "    <tr>\n",
       "      <th>3</th>\n",
       "      <td>Afghanistan</td>\n",
       "      <td>2016</td>\n",
       "      <td>35383.032</td>\n",
       "    </tr>\n",
       "    <tr>\n",
       "      <th>4</th>\n",
       "      <td>Afghanistan</td>\n",
       "      <td>2017</td>\n",
       "      <td>36296.113</td>\n",
       "    </tr>\n",
       "  </tbody>\n",
       "</table>\n",
       "</div>"
      ],
      "text/plain": [
       "       country  year  Population\n",
       "0  Afghanistan  2013   32269.589\n",
       "1  Afghanistan  2014   33370.794\n",
       "2  Afghanistan  2015   34413.603\n",
       "3  Afghanistan  2016   35383.032\n",
       "4  Afghanistan  2017   36296.113"
      ]
     },
     "execution_count": 806,
     "metadata": {},
     "output_type": "execute_result"
    }
   ],
   "source": [
    "population.head()"
   ]
  },
  {
   "cell_type": "code",
   "execution_count": 807,
   "id": "29dcc441",
   "metadata": {},
   "outputs": [],
   "source": [
    "# changing population to million with int dtype\n",
    "population['Population'] = population['Population'] * 1000\n",
    "population['Population'] = population['Population'].astype(int)"
   ]
  },
  {
   "cell_type": "code",
   "execution_count": 808,
   "id": "d0bdd069",
   "metadata": {},
   "outputs": [
    {
     "data": {
      "text/html": [
       "<div>\n",
       "<style scoped>\n",
       "    .dataframe tbody tr th:only-of-type {\n",
       "        vertical-align: middle;\n",
       "    }\n",
       "\n",
       "    .dataframe tbody tr th {\n",
       "        vertical-align: top;\n",
       "    }\n",
       "\n",
       "    .dataframe thead th {\n",
       "        text-align: right;\n",
       "    }\n",
       "</style>\n",
       "<table border=\"1\" class=\"dataframe\">\n",
       "  <thead>\n",
       "    <tr style=\"text-align: right;\">\n",
       "      <th></th>\n",
       "      <th>country</th>\n",
       "      <th>year</th>\n",
       "      <th>Population</th>\n",
       "    </tr>\n",
       "  </thead>\n",
       "  <tbody>\n",
       "    <tr>\n",
       "      <th>0</th>\n",
       "      <td>Afghanistan</td>\n",
       "      <td>2013</td>\n",
       "      <td>32269589</td>\n",
       "    </tr>\n",
       "    <tr>\n",
       "      <th>1</th>\n",
       "      <td>Afghanistan</td>\n",
       "      <td>2014</td>\n",
       "      <td>33370794</td>\n",
       "    </tr>\n",
       "    <tr>\n",
       "      <th>2</th>\n",
       "      <td>Afghanistan</td>\n",
       "      <td>2015</td>\n",
       "      <td>34413603</td>\n",
       "    </tr>\n",
       "    <tr>\n",
       "      <th>3</th>\n",
       "      <td>Afghanistan</td>\n",
       "      <td>2016</td>\n",
       "      <td>35383032</td>\n",
       "    </tr>\n",
       "    <tr>\n",
       "      <th>4</th>\n",
       "      <td>Afghanistan</td>\n",
       "      <td>2017</td>\n",
       "      <td>36296113</td>\n",
       "    </tr>\n",
       "  </tbody>\n",
       "</table>\n",
       "</div>"
      ],
      "text/plain": [
       "       country  year  Population\n",
       "0  Afghanistan  2013    32269589\n",
       "1  Afghanistan  2014    33370794\n",
       "2  Afghanistan  2015    34413603\n",
       "3  Afghanistan  2016    35383032\n",
       "4  Afghanistan  2017    36296113"
      ]
     },
     "execution_count": 808,
     "metadata": {},
     "output_type": "execute_result"
    }
   ],
   "source": [
    "population.head()"
   ]
  },
  {
   "cell_type": "code",
   "execution_count": 809,
   "id": "f7fb9bbc",
   "metadata": {},
   "outputs": [
    {
     "data": {
      "text/plain": [
       "array([2013, 2014, 2015, 2016, 2017, 2018], dtype=int64)"
      ]
     },
     "execution_count": 809,
     "metadata": {},
     "output_type": "execute_result"
    }
   ],
   "source": [
    "population.year.unique()"
   ]
  },
  {
   "cell_type": "markdown",
   "id": "4224b896",
   "metadata": {},
   "source": [
    "<div style=\"border: 1px solid RGB(0,150,250);\" >\n",
    "<h3 style=\"margin: auto; padding: 20px; color: RGB(0,150,250); \">2.2 - EDA disponibility</h3>\n",
    "</div>"
   ]
  },
  {
   "cell_type": "code",
   "execution_count": 810,
   "id": "38f5b838",
   "metadata": {},
   "outputs": [
    {
     "data": {
      "text/html": [
       "<div>\n",
       "<style scoped>\n",
       "    .dataframe tbody tr th:only-of-type {\n",
       "        vertical-align: middle;\n",
       "    }\n",
       "\n",
       "    .dataframe tbody tr th {\n",
       "        vertical-align: top;\n",
       "    }\n",
       "\n",
       "    .dataframe thead th {\n",
       "        text-align: right;\n",
       "    }\n",
       "</style>\n",
       "<table border=\"1\" class=\"dataframe\">\n",
       "  <thead>\n",
       "    <tr style=\"text-align: right;\">\n",
       "      <th></th>\n",
       "      <th>country</th>\n",
       "      <th>product</th>\n",
       "      <th>Origin</th>\n",
       "      <th>for animals</th>\n",
       "      <th>other use</th>\n",
       "      <th>Dispo(Kcal/p/d)</th>\n",
       "      <th>Dispo(kg/p/y)</th>\n",
       "      <th>Dispo grasse(g/p/d)</th>\n",
       "      <th>Dispo protein (g/p/d)</th>\n",
       "      <th>Dispo in</th>\n",
       "      <th>Exportations</th>\n",
       "      <th>Importations</th>\n",
       "      <th>nutrition</th>\n",
       "      <th>lost</th>\n",
       "      <th>Production</th>\n",
       "      <th>Semences</th>\n",
       "      <th>Traitement</th>\n",
       "      <th>Variation</th>\n",
       "    </tr>\n",
       "  </thead>\n",
       "  <tbody>\n",
       "    <tr>\n",
       "      <th>0</th>\n",
       "      <td>Afghanistan</td>\n",
       "      <td>Abats Comestible</td>\n",
       "      <td>animale</td>\n",
       "      <td>NaN</td>\n",
       "      <td>NaN</td>\n",
       "      <td>5.0</td>\n",
       "      <td>1.72</td>\n",
       "      <td>0.20</td>\n",
       "      <td>0.77</td>\n",
       "      <td>53.0</td>\n",
       "      <td>NaN</td>\n",
       "      <td>NaN</td>\n",
       "      <td>53.0</td>\n",
       "      <td>NaN</td>\n",
       "      <td>53.0</td>\n",
       "      <td>NaN</td>\n",
       "      <td>NaN</td>\n",
       "      <td>NaN</td>\n",
       "    </tr>\n",
       "    <tr>\n",
       "      <th>1</th>\n",
       "      <td>Afghanistan</td>\n",
       "      <td>Agrumes, Autres</td>\n",
       "      <td>vegetale</td>\n",
       "      <td>NaN</td>\n",
       "      <td>NaN</td>\n",
       "      <td>1.0</td>\n",
       "      <td>1.29</td>\n",
       "      <td>0.01</td>\n",
       "      <td>0.02</td>\n",
       "      <td>41.0</td>\n",
       "      <td>2.0</td>\n",
       "      <td>40.0</td>\n",
       "      <td>39.0</td>\n",
       "      <td>2.0</td>\n",
       "      <td>3.0</td>\n",
       "      <td>NaN</td>\n",
       "      <td>NaN</td>\n",
       "      <td>NaN</td>\n",
       "    </tr>\n",
       "    <tr>\n",
       "      <th>2</th>\n",
       "      <td>Afghanistan</td>\n",
       "      <td>Aliments pour enfants</td>\n",
       "      <td>vegetale</td>\n",
       "      <td>NaN</td>\n",
       "      <td>NaN</td>\n",
       "      <td>1.0</td>\n",
       "      <td>0.06</td>\n",
       "      <td>0.01</td>\n",
       "      <td>0.03</td>\n",
       "      <td>2.0</td>\n",
       "      <td>NaN</td>\n",
       "      <td>2.0</td>\n",
       "      <td>2.0</td>\n",
       "      <td>NaN</td>\n",
       "      <td>NaN</td>\n",
       "      <td>NaN</td>\n",
       "      <td>NaN</td>\n",
       "      <td>NaN</td>\n",
       "    </tr>\n",
       "    <tr>\n",
       "      <th>3</th>\n",
       "      <td>Afghanistan</td>\n",
       "      <td>Ananas</td>\n",
       "      <td>vegetale</td>\n",
       "      <td>NaN</td>\n",
       "      <td>NaN</td>\n",
       "      <td>0.0</td>\n",
       "      <td>0.00</td>\n",
       "      <td>NaN</td>\n",
       "      <td>NaN</td>\n",
       "      <td>0.0</td>\n",
       "      <td>NaN</td>\n",
       "      <td>0.0</td>\n",
       "      <td>0.0</td>\n",
       "      <td>NaN</td>\n",
       "      <td>NaN</td>\n",
       "      <td>NaN</td>\n",
       "      <td>NaN</td>\n",
       "      <td>NaN</td>\n",
       "    </tr>\n",
       "    <tr>\n",
       "      <th>4</th>\n",
       "      <td>Afghanistan</td>\n",
       "      <td>Bananes</td>\n",
       "      <td>vegetale</td>\n",
       "      <td>NaN</td>\n",
       "      <td>NaN</td>\n",
       "      <td>4.0</td>\n",
       "      <td>2.70</td>\n",
       "      <td>0.02</td>\n",
       "      <td>0.05</td>\n",
       "      <td>82.0</td>\n",
       "      <td>NaN</td>\n",
       "      <td>82.0</td>\n",
       "      <td>82.0</td>\n",
       "      <td>NaN</td>\n",
       "      <td>NaN</td>\n",
       "      <td>NaN</td>\n",
       "      <td>NaN</td>\n",
       "      <td>NaN</td>\n",
       "    </tr>\n",
       "  </tbody>\n",
       "</table>\n",
       "</div>"
      ],
      "text/plain": [
       "       country                product    Origin  for animals  other use  \\\n",
       "0  Afghanistan       Abats Comestible   animale          NaN        NaN   \n",
       "1  Afghanistan        Agrumes, Autres  vegetale          NaN        NaN   \n",
       "2  Afghanistan  Aliments pour enfants  vegetale          NaN        NaN   \n",
       "3  Afghanistan                 Ananas  vegetale          NaN        NaN   \n",
       "4  Afghanistan                Bananes  vegetale          NaN        NaN   \n",
       "\n",
       "   Dispo(Kcal/p/d)  Dispo(kg/p/y)  Dispo grasse(g/p/d)  Dispo protein (g/p/d)  \\\n",
       "0              5.0           1.72                 0.20                   0.77   \n",
       "1              1.0           1.29                 0.01                   0.02   \n",
       "2              1.0           0.06                 0.01                   0.03   \n",
       "3              0.0           0.00                  NaN                    NaN   \n",
       "4              4.0           2.70                 0.02                   0.05   \n",
       "\n",
       "   Dispo in  Exportations  Importations  nutrition  lost  Production  \\\n",
       "0      53.0           NaN           NaN       53.0   NaN        53.0   \n",
       "1      41.0           2.0          40.0       39.0   2.0         3.0   \n",
       "2       2.0           NaN           2.0        2.0   NaN         NaN   \n",
       "3       0.0           NaN           0.0        0.0   NaN         NaN   \n",
       "4      82.0           NaN          82.0       82.0   NaN         NaN   \n",
       "\n",
       "   Semences  Traitement  Variation  \n",
       "0       NaN         NaN        NaN  \n",
       "1       NaN         NaN        NaN  \n",
       "2       NaN         NaN        NaN  \n",
       "3       NaN         NaN        NaN  \n",
       "4       NaN         NaN        NaN  "
      ]
     },
     "execution_count": 810,
     "metadata": {},
     "output_type": "execute_result"
    }
   ],
   "source": [
    "disponibility.head()"
   ]
  },
  {
   "cell_type": "code",
   "execution_count": 811,
   "id": "dfd7188b",
   "metadata": {},
   "outputs": [
    {
     "data": {
      "text/html": [
       "<div>\n",
       "<style scoped>\n",
       "    .dataframe tbody tr th:only-of-type {\n",
       "        vertical-align: middle;\n",
       "    }\n",
       "\n",
       "    .dataframe tbody tr th {\n",
       "        vertical-align: top;\n",
       "    }\n",
       "\n",
       "    .dataframe thead th {\n",
       "        text-align: right;\n",
       "    }\n",
       "</style>\n",
       "<table border=\"1\" class=\"dataframe\">\n",
       "  <thead>\n",
       "    <tr style=\"text-align: right;\">\n",
       "      <th></th>\n",
       "      <th>country</th>\n",
       "      <th>product</th>\n",
       "      <th>Origin</th>\n",
       "      <th>for animals</th>\n",
       "      <th>other use</th>\n",
       "      <th>Dispo(Kcal/p/d)</th>\n",
       "      <th>Dispo(kg/p/y)</th>\n",
       "      <th>Dispo grasse(g/p/d)</th>\n",
       "      <th>Dispo protein (g/p/d)</th>\n",
       "      <th>Dispo in</th>\n",
       "      <th>Exportations</th>\n",
       "      <th>Importations</th>\n",
       "      <th>nutrition</th>\n",
       "      <th>lost</th>\n",
       "      <th>Production</th>\n",
       "      <th>Semences</th>\n",
       "      <th>Traitement</th>\n",
       "      <th>Variation</th>\n",
       "    </tr>\n",
       "  </thead>\n",
       "  <tbody>\n",
       "    <tr>\n",
       "      <th>count</th>\n",
       "      <td>15605</td>\n",
       "      <td>15605</td>\n",
       "      <td>15605</td>\n",
       "      <td>2720.000000</td>\n",
       "      <td>5496.000000</td>\n",
       "      <td>14241.000000</td>\n",
       "      <td>14015.000000</td>\n",
       "      <td>11794.000000</td>\n",
       "      <td>11561.000000</td>\n",
       "      <td>15382.000000</td>\n",
       "      <td>12226.000000</td>\n",
       "      <td>14852.000000</td>\n",
       "      <td>14015.000000</td>\n",
       "      <td>4278.000000</td>\n",
       "      <td>9180.000000</td>\n",
       "      <td>2091.000000</td>\n",
       "      <td>2292.000000</td>\n",
       "      <td>6776.000000</td>\n",
       "    </tr>\n",
       "    <tr>\n",
       "      <th>unique</th>\n",
       "      <td>174</td>\n",
       "      <td>98</td>\n",
       "      <td>2</td>\n",
       "      <td>NaN</td>\n",
       "      <td>NaN</td>\n",
       "      <td>NaN</td>\n",
       "      <td>NaN</td>\n",
       "      <td>NaN</td>\n",
       "      <td>NaN</td>\n",
       "      <td>NaN</td>\n",
       "      <td>NaN</td>\n",
       "      <td>NaN</td>\n",
       "      <td>NaN</td>\n",
       "      <td>NaN</td>\n",
       "      <td>NaN</td>\n",
       "      <td>NaN</td>\n",
       "      <td>NaN</td>\n",
       "      <td>NaN</td>\n",
       "    </tr>\n",
       "    <tr>\n",
       "      <th>top</th>\n",
       "      <td>Inde</td>\n",
       "      <td>Abats Comestible</td>\n",
       "      <td>vegetale</td>\n",
       "      <td>NaN</td>\n",
       "      <td>NaN</td>\n",
       "      <td>NaN</td>\n",
       "      <td>NaN</td>\n",
       "      <td>NaN</td>\n",
       "      <td>NaN</td>\n",
       "      <td>NaN</td>\n",
       "      <td>NaN</td>\n",
       "      <td>NaN</td>\n",
       "      <td>NaN</td>\n",
       "      <td>NaN</td>\n",
       "      <td>NaN</td>\n",
       "      <td>NaN</td>\n",
       "      <td>NaN</td>\n",
       "      <td>NaN</td>\n",
       "    </tr>\n",
       "    <tr>\n",
       "      <th>freq</th>\n",
       "      <td>97</td>\n",
       "      <td>174</td>\n",
       "      <td>11896</td>\n",
       "      <td>NaN</td>\n",
       "      <td>NaN</td>\n",
       "      <td>NaN</td>\n",
       "      <td>NaN</td>\n",
       "      <td>NaN</td>\n",
       "      <td>NaN</td>\n",
       "      <td>NaN</td>\n",
       "      <td>NaN</td>\n",
       "      <td>NaN</td>\n",
       "      <td>NaN</td>\n",
       "      <td>NaN</td>\n",
       "      <td>NaN</td>\n",
       "      <td>NaN</td>\n",
       "      <td>NaN</td>\n",
       "      <td>NaN</td>\n",
       "    </tr>\n",
       "    <tr>\n",
       "      <th>mean</th>\n",
       "      <td>NaN</td>\n",
       "      <td>NaN</td>\n",
       "      <td>NaN</td>\n",
       "      <td>479.501838</td>\n",
       "      <td>157.391376</td>\n",
       "      <td>34.789832</td>\n",
       "      <td>8.719368</td>\n",
       "      <td>1.283111</td>\n",
       "      <td>1.223608</td>\n",
       "      <td>640.293460</td>\n",
       "      <td>110.596925</td>\n",
       "      <td>87.264543</td>\n",
       "      <td>347.931359</td>\n",
       "      <td>106.053763</td>\n",
       "      <td>1090.379085</td>\n",
       "      <td>73.974653</td>\n",
       "      <td>961.905323</td>\n",
       "      <td>-15.407615</td>\n",
       "    </tr>\n",
       "    <tr>\n",
       "      <th>std</th>\n",
       "      <td>NaN</td>\n",
       "      <td>NaN</td>\n",
       "      <td>NaN</td>\n",
       "      <td>4240.119637</td>\n",
       "      <td>5076.785816</td>\n",
       "      <td>107.287655</td>\n",
       "      <td>24.618223</td>\n",
       "      <td>3.680399</td>\n",
       "      <td>3.598686</td>\n",
       "      <td>9067.267153</td>\n",
       "      <td>1053.318990</td>\n",
       "      <td>717.372714</td>\n",
       "      <td>4475.704458</td>\n",
       "      <td>1113.100416</td>\n",
       "      <td>12067.344094</td>\n",
       "      <td>528.069224</td>\n",
       "      <td>10381.795904</td>\n",
       "      <td>549.834540</td>\n",
       "    </tr>\n",
       "    <tr>\n",
       "      <th>min</th>\n",
       "      <td>NaN</td>\n",
       "      <td>NaN</td>\n",
       "      <td>NaN</td>\n",
       "      <td>0.000000</td>\n",
       "      <td>0.000000</td>\n",
       "      <td>-21.000000</td>\n",
       "      <td>-1.930000</td>\n",
       "      <td>-0.030000</td>\n",
       "      <td>-0.370000</td>\n",
       "      <td>-3430.000000</td>\n",
       "      <td>-41.000000</td>\n",
       "      <td>-201.000000</td>\n",
       "      <td>-246.000000</td>\n",
       "      <td>0.000000</td>\n",
       "      <td>0.000000</td>\n",
       "      <td>0.000000</td>\n",
       "      <td>-19.000000</td>\n",
       "      <td>-39863.000000</td>\n",
       "    </tr>\n",
       "    <tr>\n",
       "      <th>25%</th>\n",
       "      <td>NaN</td>\n",
       "      <td>NaN</td>\n",
       "      <td>NaN</td>\n",
       "      <td>0.000000</td>\n",
       "      <td>0.000000</td>\n",
       "      <td>0.000000</td>\n",
       "      <td>0.060000</td>\n",
       "      <td>0.010000</td>\n",
       "      <td>0.010000</td>\n",
       "      <td>0.000000</td>\n",
       "      <td>0.000000</td>\n",
       "      <td>0.000000</td>\n",
       "      <td>0.000000</td>\n",
       "      <td>0.000000</td>\n",
       "      <td>2.000000</td>\n",
       "      <td>0.000000</td>\n",
       "      <td>0.000000</td>\n",
       "      <td>0.000000</td>\n",
       "    </tr>\n",
       "    <tr>\n",
       "      <th>50%</th>\n",
       "      <td>NaN</td>\n",
       "      <td>NaN</td>\n",
       "      <td>NaN</td>\n",
       "      <td>4.000000</td>\n",
       "      <td>0.000000</td>\n",
       "      <td>4.000000</td>\n",
       "      <td>0.830000</td>\n",
       "      <td>0.080000</td>\n",
       "      <td>0.100000</td>\n",
       "      <td>7.000000</td>\n",
       "      <td>0.000000</td>\n",
       "      <td>2.000000</td>\n",
       "      <td>5.000000</td>\n",
       "      <td>4.000000</td>\n",
       "      <td>22.000000</td>\n",
       "      <td>2.000000</td>\n",
       "      <td>6.000000</td>\n",
       "      <td>0.000000</td>\n",
       "    </tr>\n",
       "    <tr>\n",
       "      <th>75%</th>\n",
       "      <td>NaN</td>\n",
       "      <td>NaN</td>\n",
       "      <td>NaN</td>\n",
       "      <td>74.000000</td>\n",
       "      <td>4.000000</td>\n",
       "      <td>21.000000</td>\n",
       "      <td>5.190000</td>\n",
       "      <td>0.630000</td>\n",
       "      <td>0.660000</td>\n",
       "      <td>76.750000</td>\n",
       "      <td>9.000000</td>\n",
       "      <td>18.000000</td>\n",
       "      <td>52.000000</td>\n",
       "      <td>26.000000</td>\n",
       "      <td>191.250000</td>\n",
       "      <td>17.000000</td>\n",
       "      <td>69.000000</td>\n",
       "      <td>0.000000</td>\n",
       "    </tr>\n",
       "    <tr>\n",
       "      <th>max</th>\n",
       "      <td>NaN</td>\n",
       "      <td>NaN</td>\n",
       "      <td>NaN</td>\n",
       "      <td>150000.000000</td>\n",
       "      <td>347309.000000</td>\n",
       "      <td>1711.000000</td>\n",
       "      <td>430.760000</td>\n",
       "      <td>60.760000</td>\n",
       "      <td>54.970000</td>\n",
       "      <td>739267.000000</td>\n",
       "      <td>42797.000000</td>\n",
       "      <td>63381.000000</td>\n",
       "      <td>426850.000000</td>\n",
       "      <td>55047.000000</td>\n",
       "      <td>739267.000000</td>\n",
       "      <td>17060.000000</td>\n",
       "      <td>326711.000000</td>\n",
       "      <td>5284.000000</td>\n",
       "    </tr>\n",
       "  </tbody>\n",
       "</table>\n",
       "</div>"
      ],
      "text/plain": [
       "       country           product    Origin    for animals      other use  \\\n",
       "count    15605             15605     15605    2720.000000    5496.000000   \n",
       "unique     174                98         2            NaN            NaN   \n",
       "top       Inde  Abats Comestible  vegetale            NaN            NaN   \n",
       "freq        97               174     11896            NaN            NaN   \n",
       "mean       NaN               NaN       NaN     479.501838     157.391376   \n",
       "std        NaN               NaN       NaN    4240.119637    5076.785816   \n",
       "min        NaN               NaN       NaN       0.000000       0.000000   \n",
       "25%        NaN               NaN       NaN       0.000000       0.000000   \n",
       "50%        NaN               NaN       NaN       4.000000       0.000000   \n",
       "75%        NaN               NaN       NaN      74.000000       4.000000   \n",
       "max        NaN               NaN       NaN  150000.000000  347309.000000   \n",
       "\n",
       "        Dispo(Kcal/p/d)  Dispo(kg/p/y)  Dispo grasse(g/p/d)  \\\n",
       "count      14241.000000   14015.000000         11794.000000   \n",
       "unique              NaN            NaN                  NaN   \n",
       "top                 NaN            NaN                  NaN   \n",
       "freq                NaN            NaN                  NaN   \n",
       "mean          34.789832       8.719368             1.283111   \n",
       "std          107.287655      24.618223             3.680399   \n",
       "min          -21.000000      -1.930000            -0.030000   \n",
       "25%            0.000000       0.060000             0.010000   \n",
       "50%            4.000000       0.830000             0.080000   \n",
       "75%           21.000000       5.190000             0.630000   \n",
       "max         1711.000000     430.760000            60.760000   \n",
       "\n",
       "        Dispo protein (g/p/d)       Dispo in  Exportations  Importations  \\\n",
       "count            11561.000000   15382.000000  12226.000000  14852.000000   \n",
       "unique                    NaN            NaN           NaN           NaN   \n",
       "top                       NaN            NaN           NaN           NaN   \n",
       "freq                      NaN            NaN           NaN           NaN   \n",
       "mean                 1.223608     640.293460    110.596925     87.264543   \n",
       "std                  3.598686    9067.267153   1053.318990    717.372714   \n",
       "min                 -0.370000   -3430.000000    -41.000000   -201.000000   \n",
       "25%                  0.010000       0.000000      0.000000      0.000000   \n",
       "50%                  0.100000       7.000000      0.000000      2.000000   \n",
       "75%                  0.660000      76.750000      9.000000     18.000000   \n",
       "max                 54.970000  739267.000000  42797.000000  63381.000000   \n",
       "\n",
       "            nutrition          lost     Production      Semences  \\\n",
       "count    14015.000000   4278.000000    9180.000000   2091.000000   \n",
       "unique            NaN           NaN            NaN           NaN   \n",
       "top               NaN           NaN            NaN           NaN   \n",
       "freq              NaN           NaN            NaN           NaN   \n",
       "mean       347.931359    106.053763    1090.379085     73.974653   \n",
       "std       4475.704458   1113.100416   12067.344094    528.069224   \n",
       "min       -246.000000      0.000000       0.000000      0.000000   \n",
       "25%          0.000000      0.000000       2.000000      0.000000   \n",
       "50%          5.000000      4.000000      22.000000      2.000000   \n",
       "75%         52.000000     26.000000     191.250000     17.000000   \n",
       "max     426850.000000  55047.000000  739267.000000  17060.000000   \n",
       "\n",
       "           Traitement     Variation  \n",
       "count     2292.000000   6776.000000  \n",
       "unique            NaN           NaN  \n",
       "top               NaN           NaN  \n",
       "freq              NaN           NaN  \n",
       "mean       961.905323    -15.407615  \n",
       "std      10381.795904    549.834540  \n",
       "min        -19.000000 -39863.000000  \n",
       "25%          0.000000      0.000000  \n",
       "50%          6.000000      0.000000  \n",
       "75%         69.000000      0.000000  \n",
       "max     326711.000000   5284.000000  "
      ]
     },
     "execution_count": 811,
     "metadata": {},
     "output_type": "execute_result"
    }
   ],
   "source": [
    "disponibility.describe(include='all')"
   ]
  },
  {
   "cell_type": "code",
   "execution_count": 812,
   "id": "60930912",
   "metadata": {},
   "outputs": [
    {
     "name": "stdout",
     "output_type": "stream",
     "text": [
      "<class 'pandas.core.frame.DataFrame'>\n",
      "RangeIndex: 15605 entries, 0 to 15604\n",
      "Data columns (total 18 columns):\n",
      " #   Column                 Non-Null Count  Dtype  \n",
      "---  ------                 --------------  -----  \n",
      " 0   country                15605 non-null  object \n",
      " 1   product                15605 non-null  object \n",
      " 2   Origin                 15605 non-null  object \n",
      " 3   for animals            2720 non-null   float64\n",
      " 4   other use              5496 non-null   float64\n",
      " 5   Dispo(Kcal/p/d)        14241 non-null  float64\n",
      " 6   Dispo(kg/p/y)          14015 non-null  float64\n",
      " 7   Dispo grasse(g/p/d)    11794 non-null  float64\n",
      " 8   Dispo protein (g/p/d)  11561 non-null  float64\n",
      " 9   Dispo in               15382 non-null  float64\n",
      " 10  Exportations           12226 non-null  float64\n",
      " 11  Importations           14852 non-null  float64\n",
      " 12  nutrition              14015 non-null  float64\n",
      " 13  lost                   4278 non-null   float64\n",
      " 14  Production             9180 non-null   float64\n",
      " 15  Semences               2091 non-null   float64\n",
      " 16  Traitement             2292 non-null   float64\n",
      " 17  Variation              6776 non-null   float64\n",
      "dtypes: float64(15), object(3)\n",
      "memory usage: 2.1+ MB\n"
     ]
    }
   ],
   "source": [
    "disponibility.info()"
   ]
  },
  {
   "cell_type": "markdown",
   "id": "07680373",
   "metadata": {},
   "source": [
    "* to add more insights i replace nan values by 0 to avoid deleting columns, imputation by other methos risky cuz we have a lot\n",
    "of nan values"
   ]
  },
  {
   "cell_type": "code",
   "execution_count": 813,
   "id": "f3832569",
   "metadata": {},
   "outputs": [],
   "source": [
    "# replace NaN by 0\n",
    "disponibility = disponibility.fillna(0)"
   ]
  },
  {
   "cell_type": "code",
   "execution_count": 814,
   "id": "75310d28",
   "metadata": {},
   "outputs": [
    {
     "data": {
      "text/html": [
       "<div>\n",
       "<style scoped>\n",
       "    .dataframe tbody tr th:only-of-type {\n",
       "        vertical-align: middle;\n",
       "    }\n",
       "\n",
       "    .dataframe tbody tr th {\n",
       "        vertical-align: top;\n",
       "    }\n",
       "\n",
       "    .dataframe thead th {\n",
       "        text-align: right;\n",
       "    }\n",
       "</style>\n",
       "<table border=\"1\" class=\"dataframe\">\n",
       "  <thead>\n",
       "    <tr style=\"text-align: right;\">\n",
       "      <th></th>\n",
       "      <th>country</th>\n",
       "      <th>product</th>\n",
       "      <th>Origin</th>\n",
       "      <th>for animals</th>\n",
       "      <th>other use</th>\n",
       "      <th>Dispo(Kcal/p/d)</th>\n",
       "      <th>Dispo(kg/p/y)</th>\n",
       "      <th>Dispo grasse(g/p/d)</th>\n",
       "      <th>Dispo protein (g/p/d)</th>\n",
       "      <th>Dispo in</th>\n",
       "      <th>Exportations</th>\n",
       "      <th>Importations</th>\n",
       "      <th>nutrition</th>\n",
       "      <th>lost</th>\n",
       "      <th>Production</th>\n",
       "      <th>Semences</th>\n",
       "      <th>Traitement</th>\n",
       "      <th>Variation</th>\n",
       "    </tr>\n",
       "  </thead>\n",
       "  <tbody>\n",
       "    <tr>\n",
       "      <th>0</th>\n",
       "      <td>Afghanistan</td>\n",
       "      <td>Abats Comestible</td>\n",
       "      <td>animale</td>\n",
       "      <td>0.0</td>\n",
       "      <td>0.0</td>\n",
       "      <td>5.0</td>\n",
       "      <td>1.72</td>\n",
       "      <td>0.20</td>\n",
       "      <td>0.77</td>\n",
       "      <td>53.0</td>\n",
       "      <td>0.0</td>\n",
       "      <td>0.0</td>\n",
       "      <td>53.0</td>\n",
       "      <td>0.0</td>\n",
       "      <td>53.0</td>\n",
       "      <td>0.0</td>\n",
       "      <td>0.0</td>\n",
       "      <td>0.0</td>\n",
       "    </tr>\n",
       "    <tr>\n",
       "      <th>1</th>\n",
       "      <td>Afghanistan</td>\n",
       "      <td>Agrumes, Autres</td>\n",
       "      <td>vegetale</td>\n",
       "      <td>0.0</td>\n",
       "      <td>0.0</td>\n",
       "      <td>1.0</td>\n",
       "      <td>1.29</td>\n",
       "      <td>0.01</td>\n",
       "      <td>0.02</td>\n",
       "      <td>41.0</td>\n",
       "      <td>2.0</td>\n",
       "      <td>40.0</td>\n",
       "      <td>39.0</td>\n",
       "      <td>2.0</td>\n",
       "      <td>3.0</td>\n",
       "      <td>0.0</td>\n",
       "      <td>0.0</td>\n",
       "      <td>0.0</td>\n",
       "    </tr>\n",
       "    <tr>\n",
       "      <th>2</th>\n",
       "      <td>Afghanistan</td>\n",
       "      <td>Aliments pour enfants</td>\n",
       "      <td>vegetale</td>\n",
       "      <td>0.0</td>\n",
       "      <td>0.0</td>\n",
       "      <td>1.0</td>\n",
       "      <td>0.06</td>\n",
       "      <td>0.01</td>\n",
       "      <td>0.03</td>\n",
       "      <td>2.0</td>\n",
       "      <td>0.0</td>\n",
       "      <td>2.0</td>\n",
       "      <td>2.0</td>\n",
       "      <td>0.0</td>\n",
       "      <td>0.0</td>\n",
       "      <td>0.0</td>\n",
       "      <td>0.0</td>\n",
       "      <td>0.0</td>\n",
       "    </tr>\n",
       "    <tr>\n",
       "      <th>3</th>\n",
       "      <td>Afghanistan</td>\n",
       "      <td>Ananas</td>\n",
       "      <td>vegetale</td>\n",
       "      <td>0.0</td>\n",
       "      <td>0.0</td>\n",
       "      <td>0.0</td>\n",
       "      <td>0.00</td>\n",
       "      <td>0.00</td>\n",
       "      <td>0.00</td>\n",
       "      <td>0.0</td>\n",
       "      <td>0.0</td>\n",
       "      <td>0.0</td>\n",
       "      <td>0.0</td>\n",
       "      <td>0.0</td>\n",
       "      <td>0.0</td>\n",
       "      <td>0.0</td>\n",
       "      <td>0.0</td>\n",
       "      <td>0.0</td>\n",
       "    </tr>\n",
       "    <tr>\n",
       "      <th>4</th>\n",
       "      <td>Afghanistan</td>\n",
       "      <td>Bananes</td>\n",
       "      <td>vegetale</td>\n",
       "      <td>0.0</td>\n",
       "      <td>0.0</td>\n",
       "      <td>4.0</td>\n",
       "      <td>2.70</td>\n",
       "      <td>0.02</td>\n",
       "      <td>0.05</td>\n",
       "      <td>82.0</td>\n",
       "      <td>0.0</td>\n",
       "      <td>82.0</td>\n",
       "      <td>82.0</td>\n",
       "      <td>0.0</td>\n",
       "      <td>0.0</td>\n",
       "      <td>0.0</td>\n",
       "      <td>0.0</td>\n",
       "      <td>0.0</td>\n",
       "    </tr>\n",
       "  </tbody>\n",
       "</table>\n",
       "</div>"
      ],
      "text/plain": [
       "       country                product    Origin  for animals  other use  \\\n",
       "0  Afghanistan       Abats Comestible   animale          0.0        0.0   \n",
       "1  Afghanistan        Agrumes, Autres  vegetale          0.0        0.0   \n",
       "2  Afghanistan  Aliments pour enfants  vegetale          0.0        0.0   \n",
       "3  Afghanistan                 Ananas  vegetale          0.0        0.0   \n",
       "4  Afghanistan                Bananes  vegetale          0.0        0.0   \n",
       "\n",
       "   Dispo(Kcal/p/d)  Dispo(kg/p/y)  Dispo grasse(g/p/d)  Dispo protein (g/p/d)  \\\n",
       "0              5.0           1.72                 0.20                   0.77   \n",
       "1              1.0           1.29                 0.01                   0.02   \n",
       "2              1.0           0.06                 0.01                   0.03   \n",
       "3              0.0           0.00                 0.00                   0.00   \n",
       "4              4.0           2.70                 0.02                   0.05   \n",
       "\n",
       "   Dispo in  Exportations  Importations  nutrition  lost  Production  \\\n",
       "0      53.0           0.0           0.0       53.0   0.0        53.0   \n",
       "1      41.0           2.0          40.0       39.0   2.0         3.0   \n",
       "2       2.0           0.0           2.0        2.0   0.0         0.0   \n",
       "3       0.0           0.0           0.0        0.0   0.0         0.0   \n",
       "4      82.0           0.0          82.0       82.0   0.0         0.0   \n",
       "\n",
       "   Semences  Traitement  Variation  \n",
       "0       0.0         0.0        0.0  \n",
       "1       0.0         0.0        0.0  \n",
       "2       0.0         0.0        0.0  \n",
       "3       0.0         0.0        0.0  \n",
       "4       0.0         0.0        0.0  "
      ]
     },
     "execution_count": 814,
     "metadata": {},
     "output_type": "execute_result"
    }
   ],
   "source": [
    "disponibility.head()"
   ]
  },
  {
   "cell_type": "code",
   "execution_count": 815,
   "id": "db4432e3",
   "metadata": {},
   "outputs": [],
   "source": [
    "#multiplication de toutes les lignes contenant des milliers de tonnes en Kg\n"
   ]
  },
  {
   "cell_type": "code",
   "execution_count": 816,
   "id": "7f1689bf",
   "metadata": {},
   "outputs": [],
   "source": [
    "#Affichage les 5 premières lignes de la table\n"
   ]
  },
  {
   "cell_type": "markdown",
   "id": "a09233e4",
   "metadata": {},
   "source": [
    "<div style=\"border: 1px solid RGB(0,150,250);\" >\n",
    "<h3 style=\"margin: auto; padding: 20px; color: RGB(0,150,250); \">2.3 - EDA alimentary</h3>\n",
    "</div>"
   ]
  },
  {
   "cell_type": "code",
   "execution_count": 817,
   "id": "702f6322",
   "metadata": {},
   "outputs": [
    {
     "data": {
      "text/html": [
       "<div>\n",
       "<style scoped>\n",
       "    .dataframe tbody tr th:only-of-type {\n",
       "        vertical-align: middle;\n",
       "    }\n",
       "\n",
       "    .dataframe tbody tr th {\n",
       "        vertical-align: top;\n",
       "    }\n",
       "\n",
       "    .dataframe thead th {\n",
       "        text-align: right;\n",
       "    }\n",
       "</style>\n",
       "<table border=\"1\" class=\"dataframe\">\n",
       "  <thead>\n",
       "    <tr style=\"text-align: right;\">\n",
       "      <th></th>\n",
       "      <th>country</th>\n",
       "      <th>year</th>\n",
       "      <th>product</th>\n",
       "      <th>value</th>\n",
       "    </tr>\n",
       "  </thead>\n",
       "  <tbody>\n",
       "    <tr>\n",
       "      <th>0</th>\n",
       "      <td>Afghanistan</td>\n",
       "      <td>2013</td>\n",
       "      <td>Autres non-céréales</td>\n",
       "      <td>682</td>\n",
       "    </tr>\n",
       "    <tr>\n",
       "      <th>1</th>\n",
       "      <td>Afghanistan</td>\n",
       "      <td>2014</td>\n",
       "      <td>Autres non-céréales</td>\n",
       "      <td>335</td>\n",
       "    </tr>\n",
       "    <tr>\n",
       "      <th>2</th>\n",
       "      <td>Afghanistan</td>\n",
       "      <td>2013</td>\n",
       "      <td>Blé et Farin</td>\n",
       "      <td>39224</td>\n",
       "    </tr>\n",
       "    <tr>\n",
       "      <th>3</th>\n",
       "      <td>Afghanistan</td>\n",
       "      <td>2014</td>\n",
       "      <td>Blé et Farin</td>\n",
       "      <td>15160</td>\n",
       "    </tr>\n",
       "    <tr>\n",
       "      <th>4</th>\n",
       "      <td>Afghanistan</td>\n",
       "      <td>2013</td>\n",
       "      <td>Céréales</td>\n",
       "      <td>40504</td>\n",
       "    </tr>\n",
       "  </tbody>\n",
       "</table>\n",
       "</div>"
      ],
      "text/plain": [
       "       country  year              product  value\n",
       "0  Afghanistan  2013  Autres non-céréales    682\n",
       "1  Afghanistan  2014  Autres non-céréales    335\n",
       "2  Afghanistan  2013         Blé et Farin  39224\n",
       "3  Afghanistan  2014         Blé et Farin  15160\n",
       "4  Afghanistan  2013             Céréales  40504"
      ]
     },
     "execution_count": 817,
     "metadata": {},
     "output_type": "execute_result"
    }
   ],
   "source": [
    "alimentary.head()\n"
   ]
  },
  {
   "cell_type": "code",
   "execution_count": 818,
   "id": "8fead3f9",
   "metadata": {},
   "outputs": [
    {
     "name": "stdout",
     "output_type": "stream",
     "text": [
      "<class 'pandas.core.frame.DataFrame'>\n",
      "RangeIndex: 1475 entries, 0 to 1474\n",
      "Data columns (total 4 columns):\n",
      " #   Column   Non-Null Count  Dtype \n",
      "---  ------   --------------  ----- \n",
      " 0   country  1475 non-null   object\n",
      " 1   year     1475 non-null   int64 \n",
      " 2   product  1475 non-null   object\n",
      " 3   value    1475 non-null   int64 \n",
      "dtypes: int64(2), object(2)\n",
      "memory usage: 46.2+ KB\n"
     ]
    }
   ],
   "source": [
    "alimentary.info()\n"
   ]
  },
  {
   "cell_type": "markdown",
   "id": "48799fb8",
   "metadata": {},
   "source": [
    "* no nan values"
   ]
  },
  {
   "cell_type": "code",
   "execution_count": 819,
   "id": "43cd3aff",
   "metadata": {},
   "outputs": [
    {
     "data": {
      "text/plain": [
       "array(['Autres non-céréales', 'Blé et Farin', 'Céréales',\n",
       "       'Fruits secs, total', 'Huiles végétales',\n",
       "       'Légumineuses Sèches,Tot.', 'Non-céréales', 'Riz, total',\n",
       "       'Sucre, total', 'Céréales Secondaires', 'Lait, total',\n",
       "       'Mélanges et préparations', 'Poiss&produi', 'BulgurFarEnt',\n",
       "       'Viande Total', 'Graisses Com'], dtype=object)"
      ]
     },
     "execution_count": 819,
     "metadata": {},
     "output_type": "execute_result"
    }
   ],
   "source": [
    "alimentary['product'].unique()"
   ]
  },
  {
   "cell_type": "markdown",
   "id": "b92647b9",
   "metadata": {},
   "source": [
    "* we have 22 type of alimentary"
   ]
  },
  {
   "cell_type": "code",
   "execution_count": 820,
   "id": "443ec245",
   "metadata": {},
   "outputs": [],
   "source": [
    "# multiply values from ton to kg (1000)\n",
    "alimentary['value'] = alimentary['value'] * 1000\n"
   ]
  },
  {
   "cell_type": "code",
   "execution_count": 821,
   "id": "d951d8df",
   "metadata": {},
   "outputs": [
    {
     "data": {
      "text/html": [
       "<div>\n",
       "<style scoped>\n",
       "    .dataframe tbody tr th:only-of-type {\n",
       "        vertical-align: middle;\n",
       "    }\n",
       "\n",
       "    .dataframe tbody tr th {\n",
       "        vertical-align: top;\n",
       "    }\n",
       "\n",
       "    .dataframe thead th {\n",
       "        text-align: right;\n",
       "    }\n",
       "</style>\n",
       "<table border=\"1\" class=\"dataframe\">\n",
       "  <thead>\n",
       "    <tr style=\"text-align: right;\">\n",
       "      <th></th>\n",
       "      <th>country</th>\n",
       "      <th>year</th>\n",
       "      <th>product</th>\n",
       "      <th>value</th>\n",
       "    </tr>\n",
       "  </thead>\n",
       "  <tbody>\n",
       "    <tr>\n",
       "      <th>0</th>\n",
       "      <td>Afghanistan</td>\n",
       "      <td>2013</td>\n",
       "      <td>Autres non-céréales</td>\n",
       "      <td>682000</td>\n",
       "    </tr>\n",
       "    <tr>\n",
       "      <th>1</th>\n",
       "      <td>Afghanistan</td>\n",
       "      <td>2014</td>\n",
       "      <td>Autres non-céréales</td>\n",
       "      <td>335000</td>\n",
       "    </tr>\n",
       "    <tr>\n",
       "      <th>2</th>\n",
       "      <td>Afghanistan</td>\n",
       "      <td>2013</td>\n",
       "      <td>Blé et Farin</td>\n",
       "      <td>39224000</td>\n",
       "    </tr>\n",
       "    <tr>\n",
       "      <th>3</th>\n",
       "      <td>Afghanistan</td>\n",
       "      <td>2014</td>\n",
       "      <td>Blé et Farin</td>\n",
       "      <td>15160000</td>\n",
       "    </tr>\n",
       "    <tr>\n",
       "      <th>4</th>\n",
       "      <td>Afghanistan</td>\n",
       "      <td>2013</td>\n",
       "      <td>Céréales</td>\n",
       "      <td>40504000</td>\n",
       "    </tr>\n",
       "  </tbody>\n",
       "</table>\n",
       "</div>"
      ],
      "text/plain": [
       "       country  year              product     value\n",
       "0  Afghanistan  2013  Autres non-céréales    682000\n",
       "1  Afghanistan  2014  Autres non-céréales    335000\n",
       "2  Afghanistan  2013         Blé et Farin  39224000\n",
       "3  Afghanistan  2014         Blé et Farin  15160000\n",
       "4  Afghanistan  2013             Céréales  40504000"
      ]
     },
     "execution_count": 821,
     "metadata": {},
     "output_type": "execute_result"
    }
   ],
   "source": [
    "alimentary.head()\n"
   ]
  },
  {
   "cell_type": "markdown",
   "id": "eeae9043",
   "metadata": {},
   "source": [
    "<div style=\"border: 1px solid RGB(0,150,250);\" >\n",
    "<h3 style=\"margin: auto; padding: 20px; color: RGB(0,150,250); \">2.3 - EDA nutrition</h3>\n",
    "</div>"
   ]
  },
  {
   "cell_type": "code",
   "execution_count": 822,
   "id": "882add3d",
   "metadata": {},
   "outputs": [
    {
     "data": {
      "text/html": [
       "<div>\n",
       "<style scoped>\n",
       "    .dataframe tbody tr th:only-of-type {\n",
       "        vertical-align: middle;\n",
       "    }\n",
       "\n",
       "    .dataframe tbody tr th {\n",
       "        vertical-align: top;\n",
       "    }\n",
       "\n",
       "    .dataframe thead th {\n",
       "        text-align: right;\n",
       "    }\n",
       "</style>\n",
       "<table border=\"1\" class=\"dataframe\">\n",
       "  <thead>\n",
       "    <tr style=\"text-align: right;\">\n",
       "      <th></th>\n",
       "      <th>country</th>\n",
       "      <th>year</th>\n",
       "      <th>p/nutrition</th>\n",
       "    </tr>\n",
       "  </thead>\n",
       "  <tbody>\n",
       "    <tr>\n",
       "      <th>0</th>\n",
       "      <td>Afghanistan</td>\n",
       "      <td>2012-2014</td>\n",
       "      <td>8.6</td>\n",
       "    </tr>\n",
       "    <tr>\n",
       "      <th>1</th>\n",
       "      <td>Afghanistan</td>\n",
       "      <td>2013-2015</td>\n",
       "      <td>8.8</td>\n",
       "    </tr>\n",
       "    <tr>\n",
       "      <th>2</th>\n",
       "      <td>Afghanistan</td>\n",
       "      <td>2014-2016</td>\n",
       "      <td>8.9</td>\n",
       "    </tr>\n",
       "    <tr>\n",
       "      <th>3</th>\n",
       "      <td>Afghanistan</td>\n",
       "      <td>2015-2017</td>\n",
       "      <td>9.7</td>\n",
       "    </tr>\n",
       "    <tr>\n",
       "      <th>4</th>\n",
       "      <td>Afghanistan</td>\n",
       "      <td>2016-2018</td>\n",
       "      <td>10.5</td>\n",
       "    </tr>\n",
       "  </tbody>\n",
       "</table>\n",
       "</div>"
      ],
      "text/plain": [
       "       country       year p/nutrition\n",
       "0  Afghanistan  2012-2014         8.6\n",
       "1  Afghanistan  2013-2015         8.8\n",
       "2  Afghanistan  2014-2016         8.9\n",
       "3  Afghanistan  2015-2017         9.7\n",
       "4  Afghanistan  2016-2018        10.5"
      ]
     },
     "execution_count": 822,
     "metadata": {},
     "output_type": "execute_result"
    }
   ],
   "source": [
    "nutrition.head()\n"
   ]
  },
  {
   "cell_type": "code",
   "execution_count": 823,
   "id": "70c1a7a9",
   "metadata": {},
   "outputs": [
    {
     "name": "stdout",
     "output_type": "stream",
     "text": [
      "<class 'pandas.core.frame.DataFrame'>\n",
      "RangeIndex: 1218 entries, 0 to 1217\n",
      "Data columns (total 3 columns):\n",
      " #   Column       Non-Null Count  Dtype \n",
      "---  ------       --------------  ----- \n",
      " 0   country      1218 non-null   object\n",
      " 1   year         1218 non-null   object\n",
      " 2   p/nutrition  624 non-null    object\n",
      "dtypes: object(3)\n",
      "memory usage: 28.7+ KB\n"
     ]
    }
   ],
   "source": [
    "nutrition.info()\n"
   ]
  },
  {
   "cell_type": "markdown",
   "id": "1ab803da",
   "metadata": {},
   "source": [
    "* change dtype of p/nutrition into int, year into int also chose mean year"
   ]
  },
  {
   "cell_type": "code",
   "execution_count": 824,
   "id": "21267e96",
   "metadata": {},
   "outputs": [
    {
     "data": {
      "text/html": [
       "<div>\n",
       "<style scoped>\n",
       "    .dataframe tbody tr th:only-of-type {\n",
       "        vertical-align: middle;\n",
       "    }\n",
       "\n",
       "    .dataframe tbody tr th {\n",
       "        vertical-align: top;\n",
       "    }\n",
       "\n",
       "    .dataframe thead th {\n",
       "        text-align: right;\n",
       "    }\n",
       "</style>\n",
       "<table border=\"1\" class=\"dataframe\">\n",
       "  <thead>\n",
       "    <tr style=\"text-align: right;\">\n",
       "      <th></th>\n",
       "      <th>country</th>\n",
       "      <th>year</th>\n",
       "      <th>p/nutrition</th>\n",
       "    </tr>\n",
       "  </thead>\n",
       "  <tbody>\n",
       "    <tr>\n",
       "      <th>count</th>\n",
       "      <td>1218</td>\n",
       "      <td>1218</td>\n",
       "      <td>624</td>\n",
       "    </tr>\n",
       "    <tr>\n",
       "      <th>unique</th>\n",
       "      <td>203</td>\n",
       "      <td>6</td>\n",
       "      <td>139</td>\n",
       "    </tr>\n",
       "    <tr>\n",
       "      <th>top</th>\n",
       "      <td>Afghanistan</td>\n",
       "      <td>2012-2014</td>\n",
       "      <td>&lt;0.1</td>\n",
       "    </tr>\n",
       "    <tr>\n",
       "      <th>freq</th>\n",
       "      <td>6</td>\n",
       "      <td>203</td>\n",
       "      <td>120</td>\n",
       "    </tr>\n",
       "  </tbody>\n",
       "</table>\n",
       "</div>"
      ],
      "text/plain": [
       "            country       year p/nutrition\n",
       "count          1218       1218         624\n",
       "unique          203          6         139\n",
       "top     Afghanistan  2012-2014        <0.1\n",
       "freq              6        203         120"
      ]
     },
     "execution_count": 824,
     "metadata": {},
     "output_type": "execute_result"
    }
   ],
   "source": [
    "nutrition.describe(include='all')"
   ]
  },
  {
   "cell_type": "markdown",
   "id": "63ec1298",
   "metadata": {},
   "source": [
    "* we have <0.1, i decide to change it to 0 to avoid error while manupilate of data"
   ]
  },
  {
   "cell_type": "code",
   "execution_count": 825,
   "id": "11ff8923",
   "metadata": {},
   "outputs": [],
   "source": [
    "nutrition['p/nutrition'] = nutrition['p/nutrition'].replace(['<0.1'], 0)"
   ]
  },
  {
   "cell_type": "code",
   "execution_count": 826,
   "id": "d9ec86df",
   "metadata": {},
   "outputs": [],
   "source": [
    "# change dtype\n",
    "nutrition['p/nutrition'] = pd.to_numeric(nutrition['p/nutrition'])"
   ]
  },
  {
   "cell_type": "code",
   "execution_count": 827,
   "id": "11b6a6c8",
   "metadata": {},
   "outputs": [],
   "source": [
    "# product personne who be nutrited to millions\n",
    "nutrition['p/nutrition'] = nutrition['p/nutrition'] * 1e6"
   ]
  },
  {
   "cell_type": "code",
   "execution_count": 828,
   "id": "c278aa73",
   "metadata": {},
   "outputs": [],
   "source": [
    "nutrition = nutrition.fillna(0)"
   ]
  },
  {
   "cell_type": "code",
   "execution_count": 829,
   "id": "c92b8a69",
   "metadata": {},
   "outputs": [],
   "source": [
    "nutrition['p/nutrition'] = nutrition['p/nutrition'].astype(int)"
   ]
  },
  {
   "cell_type": "code",
   "execution_count": 830,
   "id": "6d8ba125",
   "metadata": {},
   "outputs": [],
   "source": [
    "nutrition['year'] = nutrition['year'].replace(['2012-2014'], 2013)\n",
    "nutrition['year'] = nutrition['year'].replace(['2013-2015'], 2014)\n",
    "nutrition['year'] = nutrition['year'].replace(['2014-2016'], 2015)\n",
    "nutrition['year'] = nutrition['year'].replace(['2015-2017'], 2016)\n",
    "nutrition['year'] = nutrition['year'].replace(['2016-2018'], 2017)"
   ]
  },
  {
   "cell_type": "code",
   "execution_count": 831,
   "id": "58259b55",
   "metadata": {},
   "outputs": [
    {
     "data": {
      "text/html": [
       "<div>\n",
       "<style scoped>\n",
       "    .dataframe tbody tr th:only-of-type {\n",
       "        vertical-align: middle;\n",
       "    }\n",
       "\n",
       "    .dataframe tbody tr th {\n",
       "        vertical-align: top;\n",
       "    }\n",
       "\n",
       "    .dataframe thead th {\n",
       "        text-align: right;\n",
       "    }\n",
       "</style>\n",
       "<table border=\"1\" class=\"dataframe\">\n",
       "  <thead>\n",
       "    <tr style=\"text-align: right;\">\n",
       "      <th></th>\n",
       "      <th>country</th>\n",
       "      <th>year</th>\n",
       "      <th>p/nutrition</th>\n",
       "    </tr>\n",
       "  </thead>\n",
       "  <tbody>\n",
       "    <tr>\n",
       "      <th>0</th>\n",
       "      <td>Afghanistan</td>\n",
       "      <td>2013</td>\n",
       "      <td>8600000</td>\n",
       "    </tr>\n",
       "    <tr>\n",
       "      <th>1</th>\n",
       "      <td>Afghanistan</td>\n",
       "      <td>2014</td>\n",
       "      <td>8800000</td>\n",
       "    </tr>\n",
       "    <tr>\n",
       "      <th>2</th>\n",
       "      <td>Afghanistan</td>\n",
       "      <td>2015</td>\n",
       "      <td>8900000</td>\n",
       "    </tr>\n",
       "    <tr>\n",
       "      <th>3</th>\n",
       "      <td>Afghanistan</td>\n",
       "      <td>2016</td>\n",
       "      <td>9700000</td>\n",
       "    </tr>\n",
       "    <tr>\n",
       "      <th>4</th>\n",
       "      <td>Afghanistan</td>\n",
       "      <td>2017</td>\n",
       "      <td>10500000</td>\n",
       "    </tr>\n",
       "  </tbody>\n",
       "</table>\n",
       "</div>"
      ],
      "text/plain": [
       "       country  year  p/nutrition\n",
       "0  Afghanistan  2013      8600000\n",
       "1  Afghanistan  2014      8800000\n",
       "2  Afghanistan  2015      8900000\n",
       "3  Afghanistan  2016      9700000\n",
       "4  Afghanistan  2017     10500000"
      ]
     },
     "execution_count": 831,
     "metadata": {},
     "output_type": "execute_result"
    }
   ],
   "source": [
    "nutrition.head()\n"
   ]
  },
  {
   "cell_type": "markdown",
   "id": "df6dcabd",
   "metadata": {},
   "source": [
    "<div style=\"border: 1px solid RGB(0,150,250);\" >\n",
    "<h3 style=\"margin: auto; padding: 20px; color: RGB(0,150,250); \">3.1 - Number, Proportion pop who are undernourished in 2017</h3>\n",
    "</div>"
   ]
  },
  {
   "cell_type": "code",
   "execution_count": 832,
   "id": "a63e1567",
   "metadata": {},
   "outputs": [],
   "source": [
    "pop_2017 = population.loc[population['year'] == 2017]\n",
    "pop_2017 = pop_2017.copy()"
   ]
  },
  {
   "cell_type": "code",
   "execution_count": 833,
   "id": "948904de",
   "metadata": {},
   "outputs": [],
   "source": [
    "nutrition_2017 = nutrition.loc[nutrition['year'] == 2017]\n",
    "nutrition_2017 = nutrition_2017.copy()"
   ]
  },
  {
   "cell_type": "code",
   "execution_count": 834,
   "id": "f3171dc7",
   "metadata": {},
   "outputs": [],
   "source": [
    "# join df for 2017\n",
    "nut_pop2017 = pd.merge(pop_2017, nutrition_2017, on=('year', 'country'))\n",
    "nut_pop2017.drop('year',axis=1, inplace=True)"
   ]
  },
  {
   "cell_type": "code",
   "execution_count": 835,
   "id": "7b29b43a",
   "metadata": {},
   "outputs": [
    {
     "data": {
      "text/html": [
       "<div>\n",
       "<style scoped>\n",
       "    .dataframe tbody tr th:only-of-type {\n",
       "        vertical-align: middle;\n",
       "    }\n",
       "\n",
       "    .dataframe tbody tr th {\n",
       "        vertical-align: top;\n",
       "    }\n",
       "\n",
       "    .dataframe thead th {\n",
       "        text-align: right;\n",
       "    }\n",
       "</style>\n",
       "<table border=\"1\" class=\"dataframe\">\n",
       "  <thead>\n",
       "    <tr style=\"text-align: right;\">\n",
       "      <th></th>\n",
       "      <th>country</th>\n",
       "      <th>Population</th>\n",
       "      <th>p/nutrition</th>\n",
       "    </tr>\n",
       "  </thead>\n",
       "  <tbody>\n",
       "    <tr>\n",
       "      <th>0</th>\n",
       "      <td>Afghanistan</td>\n",
       "      <td>36296113</td>\n",
       "      <td>10500000</td>\n",
       "    </tr>\n",
       "    <tr>\n",
       "      <th>1</th>\n",
       "      <td>Afrique du Sud</td>\n",
       "      <td>57009756</td>\n",
       "      <td>3100000</td>\n",
       "    </tr>\n",
       "    <tr>\n",
       "      <th>2</th>\n",
       "      <td>Albanie</td>\n",
       "      <td>2884169</td>\n",
       "      <td>100000</td>\n",
       "    </tr>\n",
       "    <tr>\n",
       "      <th>3</th>\n",
       "      <td>Algérie</td>\n",
       "      <td>41389189</td>\n",
       "      <td>1300000</td>\n",
       "    </tr>\n",
       "    <tr>\n",
       "      <th>4</th>\n",
       "      <td>Allemagne</td>\n",
       "      <td>82658409</td>\n",
       "      <td>0</td>\n",
       "    </tr>\n",
       "  </tbody>\n",
       "</table>\n",
       "</div>"
      ],
      "text/plain": [
       "          country  Population  p/nutrition\n",
       "0     Afghanistan    36296113     10500000\n",
       "1  Afrique du Sud    57009756      3100000\n",
       "2         Albanie     2884169       100000\n",
       "3         Algérie    41389189      1300000\n",
       "4       Allemagne    82658409            0"
      ]
     },
     "execution_count": 835,
     "metadata": {},
     "output_type": "execute_result"
    }
   ],
   "source": [
    "nut_pop2017.head()"
   ]
  },
  {
   "cell_type": "code",
   "execution_count": 836,
   "id": "28e2741f",
   "metadata": {},
   "outputs": [],
   "source": [
    "total_pop_nut = nut_pop2017.Population.sum()"
   ]
  },
  {
   "cell_type": "code",
   "execution_count": 837,
   "id": "ded77df9",
   "metadata": {},
   "outputs": [
    {
     "name": "stdout",
     "output_type": "stream",
     "text": [
      "the number of total population who be nutrited 7.54 millard\n"
     ]
    }
   ],
   "source": [
    "print(\"the number of total population who be nutrited {}\".format((total_pop_nut/1e9).round(2)), 'millard')"
   ]
  },
  {
   "cell_type": "code",
   "execution_count": 838,
   "id": "58aa82a8",
   "metadata": {},
   "outputs": [
    {
     "name": "stdout",
     "output_type": "stream",
     "text": [
      "the propotion of people who be nutrited in the word on 2017 is : 7.1 %\n"
     ]
    }
   ],
   "source": [
    "prop_pop_nut =  nut_pop2017['p/nutrition'].sum()/ total_pop_nut * 100\n",
    "print(\"the propotion of people who be nutrited in the word on 2017 is : {}\".format((prop_pop_nut).round(2)), '%')"
   ]
  },
  {
   "cell_type": "markdown",
   "id": "b4134a24",
   "metadata": {},
   "source": [
    "<div style=\"border: 1px solid RGB(0,150,250);\" >\n",
    "<h3 style=\"margin: auto; padding: 20px; color: RGB(0,150,250); \">3.2 -Theoretical number of people who could be fed in 2017</h3>\n",
    "</div>"
   ]
  },
  {
   "cell_type": "markdown",
   "id": "d20f6463",
   "metadata": {},
   "source": [
    "* how many calories take by person is 2000 source : https://www.healthhub.sg/live-healthy/how-much-to-eat-at-each-meal"
   ]
  },
  {
   "cell_type": "code",
   "execution_count": 839,
   "id": "5e3f262d",
   "metadata": {},
   "outputs": [
    {
     "data": {
      "text/html": [
       "<div>\n",
       "<style scoped>\n",
       "    .dataframe tbody tr th:only-of-type {\n",
       "        vertical-align: middle;\n",
       "    }\n",
       "\n",
       "    .dataframe tbody tr th {\n",
       "        vertical-align: top;\n",
       "    }\n",
       "\n",
       "    .dataframe thead th {\n",
       "        text-align: right;\n",
       "    }\n",
       "</style>\n",
       "<table border=\"1\" class=\"dataframe\">\n",
       "  <thead>\n",
       "    <tr style=\"text-align: right;\">\n",
       "      <th></th>\n",
       "      <th>country</th>\n",
       "      <th>Dispo(kg/p/y)</th>\n",
       "      <th>Dispo(Kcal/p/y)</th>\n",
       "    </tr>\n",
       "  </thead>\n",
       "  <tbody>\n",
       "    <tr>\n",
       "      <th>0</th>\n",
       "      <td>Afghanistan</td>\n",
       "      <td>1.72</td>\n",
       "      <td>1825.0</td>\n",
       "    </tr>\n",
       "    <tr>\n",
       "      <th>1</th>\n",
       "      <td>Afghanistan</td>\n",
       "      <td>1.29</td>\n",
       "      <td>365.0</td>\n",
       "    </tr>\n",
       "    <tr>\n",
       "      <th>2</th>\n",
       "      <td>Afghanistan</td>\n",
       "      <td>0.06</td>\n",
       "      <td>365.0</td>\n",
       "    </tr>\n",
       "    <tr>\n",
       "      <th>3</th>\n",
       "      <td>Afghanistan</td>\n",
       "      <td>0.00</td>\n",
       "      <td>0.0</td>\n",
       "    </tr>\n",
       "    <tr>\n",
       "      <th>4</th>\n",
       "      <td>Afghanistan</td>\n",
       "      <td>2.70</td>\n",
       "      <td>1460.0</td>\n",
       "    </tr>\n",
       "  </tbody>\n",
       "</table>\n",
       "</div>"
      ],
      "text/plain": [
       "       country  Dispo(kg/p/y)  Dispo(Kcal/p/y)\n",
       "0  Afghanistan           1.72           1825.0\n",
       "1  Afghanistan           1.29            365.0\n",
       "2  Afghanistan           0.06            365.0\n",
       "3  Afghanistan           0.00              0.0\n",
       "4  Afghanistan           2.70           1460.0"
      ]
     },
     "execution_count": 839,
     "metadata": {},
     "output_type": "execute_result"
    }
   ],
   "source": [
    "# we take disponability by kcal, kg by person\n",
    "dispo_person_2017 = disponibility[['country','Dispo(Kcal/p/d)', 'Dispo(kg/p/y)']]\n",
    "dispo_person_2017 = dispo_person_2017.copy()\n",
    "dispo_person_2017['Dispo(Kcal/p/y)'] = dispo_person_2017['Dispo(Kcal/p/d)'] * 365 # day to year\n",
    "dispo_person_2017.drop('Dispo(Kcal/p/d)',axis=1, inplace=True)\n",
    "dispo_person_2017.head()"
   ]
  },
  {
   "cell_type": "code",
   "execution_count": 840,
   "id": "4538126c",
   "metadata": {},
   "outputs": [],
   "source": [
    "dispo_alim_country = dispo_person_2017[['country','Dispo(Kcal/p/y)']]\n",
    "dispo_alim_country = dispo_alim_country.groupby(['country']).sum()\n",
    "\n"
   ]
  },
  {
   "cell_type": "code",
   "execution_count": 841,
   "id": "0c1c7333",
   "metadata": {},
   "outputs": [
    {
     "data": {
      "text/html": [
       "<div>\n",
       "<style scoped>\n",
       "    .dataframe tbody tr th:only-of-type {\n",
       "        vertical-align: middle;\n",
       "    }\n",
       "\n",
       "    .dataframe tbody tr th {\n",
       "        vertical-align: top;\n",
       "    }\n",
       "\n",
       "    .dataframe thead th {\n",
       "        text-align: right;\n",
       "    }\n",
       "</style>\n",
       "<table border=\"1\" class=\"dataframe\">\n",
       "  <thead>\n",
       "    <tr style=\"text-align: right;\">\n",
       "      <th></th>\n",
       "      <th>Dispo(Kcal/p/y)</th>\n",
       "      <th>year</th>\n",
       "      <th>Population</th>\n",
       "    </tr>\n",
       "  </thead>\n",
       "  <tbody>\n",
       "    <tr>\n",
       "      <th>0</th>\n",
       "      <td>761755.0</td>\n",
       "      <td>2017</td>\n",
       "      <td>36296113</td>\n",
       "    </tr>\n",
       "    <tr>\n",
       "      <th>1</th>\n",
       "      <td>1102300.0</td>\n",
       "      <td>2017</td>\n",
       "      <td>57009756</td>\n",
       "    </tr>\n",
       "    <tr>\n",
       "      <th>2</th>\n",
       "      <td>1163620.0</td>\n",
       "      <td>2017</td>\n",
       "      <td>2884169</td>\n",
       "    </tr>\n",
       "    <tr>\n",
       "      <th>3</th>\n",
       "      <td>1201945.0</td>\n",
       "      <td>2017</td>\n",
       "      <td>41389189</td>\n",
       "    </tr>\n",
       "    <tr>\n",
       "      <th>4</th>\n",
       "      <td>1278595.0</td>\n",
       "      <td>2017</td>\n",
       "      <td>82658409</td>\n",
       "    </tr>\n",
       "  </tbody>\n",
       "</table>\n",
       "</div>"
      ],
      "text/plain": [
       "   Dispo(Kcal/p/y)  year  Population\n",
       "0         761755.0  2017    36296113\n",
       "1        1102300.0  2017    57009756\n",
       "2        1163620.0  2017     2884169\n",
       "3        1201945.0  2017    41389189\n",
       "4        1278595.0  2017    82658409"
      ]
     },
     "execution_count": 841,
     "metadata": {},
     "output_type": "execute_result"
    }
   ],
   "source": [
    "dispo_kcal_pop17 = pd.merge(dispo_alim_country, pop_2017, on = ('country'))\n",
    "dispo_kcal_pop17 = dispo_kcal_pop17.drop(['country'], axis=1)\n",
    "dispo_kcal_pop17.head()"
   ]
  },
  {
   "cell_type": "code",
   "execution_count": null,
   "id": "9a82bf16",
   "metadata": {},
   "outputs": [],
   "source": []
  },
  {
   "cell_type": "code",
   "execution_count": 842,
   "id": "5305ba25",
   "metadata": {},
   "outputs": [],
   "source": [
    "#Création de la colonne dispo_kcal avec calcul des kcal disponibles mondialement\n"
   ]
  },
  {
   "cell_type": "code",
   "execution_count": 843,
   "id": "a6d4af90",
   "metadata": {},
   "outputs": [],
   "source": [
    "#Calcul du nombre d'humains pouvant être nourris\n"
   ]
  },
  {
   "cell_type": "markdown",
   "id": "e97c8886",
   "metadata": {},
   "source": [
    "<div style=\"border: 1px solid RGB(0,150,250);\" >\n",
    "<h3 style=\"margin: auto; padding: 20px; color: RGB(0,150,250); \">3.3 - Nombre théorique de personne qui pourrait être nourrie avec les produits végétaux</h3>\n",
    "</div>"
   ]
  },
  {
   "cell_type": "code",
   "execution_count": 844,
   "id": "c2e3c87c",
   "metadata": {},
   "outputs": [],
   "source": [
    "#Transfert des données avec les végétaux dans un nouveau dataframe\n"
   ]
  },
  {
   "cell_type": "code",
   "execution_count": 845,
   "id": "534f3ad7",
   "metadata": {},
   "outputs": [],
   "source": [
    "#Calcul du nombre de kcal disponible pour les végétaux\n"
   ]
  },
  {
   "cell_type": "code",
   "execution_count": 846,
   "id": "8c82da41",
   "metadata": {},
   "outputs": [],
   "source": [
    "#Calcul du nombre d'humains pouvant être nourris avec les végétaux\n"
   ]
  },
  {
   "cell_type": "markdown",
   "id": "cd07afb1",
   "metadata": {},
   "source": [
    "<div style=\"border: 1px solid RGB(0,150,250);\" >\n",
    "<h3 style=\"margin: auto; padding: 20px; color: RGB(0,150,250); \">3.4 - Utilisation de la disponibilité intérieure</h3>\n",
    "</div>"
   ]
  },
  {
   "cell_type": "code",
   "execution_count": 847,
   "id": "71328746",
   "metadata": {},
   "outputs": [],
   "source": [
    "#Calcul de la disponibilité totale\n"
   ]
  },
  {
   "cell_type": "code",
   "execution_count": 848,
   "id": "03248095",
   "metadata": {},
   "outputs": [],
   "source": [
    "#création d'une boucle for pour afficher les différentes valeurs en fonction des colonnes aliments pour animaux, pertes, nourritures, \n"
   ]
  },
  {
   "cell_type": "markdown",
   "id": "141d05df",
   "metadata": {},
   "source": [
    "<div style=\"border: 1px solid RGB(0,150,250);\" >\n",
    "<h3 style=\"margin: auto; padding: 20px; color: RGB(0,150,250); \">3.5 - Utilisation des céréales</h3>\n",
    "</div>"
   ]
  },
  {
   "cell_type": "code",
   "execution_count": 849,
   "id": "c27448ff",
   "metadata": {},
   "outputs": [],
   "source": [
    "#Création d'une liste avec toutes les variables\n"
   ]
  },
  {
   "cell_type": "code",
   "execution_count": 850,
   "id": "5dc5586d",
   "metadata": {},
   "outputs": [],
   "source": [
    "#Création d'un dataframe avec les informations uniquement pour ces céréales\n"
   ]
  },
  {
   "cell_type": "code",
   "execution_count": 851,
   "id": "8365de95",
   "metadata": {},
   "outputs": [],
   "source": [
    "#Affichage de la proportion d'alimentation animale\n"
   ]
  },
  {
   "cell_type": "code",
   "execution_count": 852,
   "id": "6f5e93c7",
   "metadata": {},
   "outputs": [],
   "source": [
    "#Affichage de la proportion d'alimentation animale\n"
   ]
  },
  {
   "cell_type": "markdown",
   "id": "a603be79",
   "metadata": {},
   "source": [
    "<div style=\"border: 1px solid RGB(0,150,250);\" >\n",
    "<h3 style=\"margin: auto; padding: 20px; color: RGB(0,150,250); \">3.6 - Pays avec la proportion de personnes sous-alimentée la plus forte en 2017</h3>\n",
    "</div>"
   ]
  },
  {
   "cell_type": "code",
   "execution_count": 853,
   "id": "1884c270",
   "metadata": {},
   "outputs": [],
   "source": [
    "#Création de la colonne proportion par pays\n"
   ]
  },
  {
   "cell_type": "code",
   "execution_count": 854,
   "id": "25a185b6",
   "metadata": {},
   "outputs": [],
   "source": [
    "#affichage après trie des 10 pires pays\n"
   ]
  },
  {
   "cell_type": "markdown",
   "id": "4f610008",
   "metadata": {},
   "source": [
    "<div style=\"border: 1px solid RGB(0,150,250);\" >\n",
    "<h3 style=\"margin: auto; padding: 20px; color: RGB(0,150,250); \">3.7 - Pays qui ont le plus bénéficié d'aide alimentaire depuis 2013</h3>\n",
    "</div>"
   ]
  },
  {
   "cell_type": "code",
   "execution_count": 855,
   "id": "ff1b24a3",
   "metadata": {},
   "outputs": [],
   "source": [
    "#calcul du total de l'aide alimentaire par pays\n"
   ]
  },
  {
   "cell_type": "code",
   "execution_count": 856,
   "id": "ee1ac6fb",
   "metadata": {},
   "outputs": [],
   "source": [
    "#affichage après trie des 10 pays qui ont bénéficié le plus de l'aide alimentaire\n"
   ]
  },
  {
   "cell_type": "markdown",
   "id": "a361ce61",
   "metadata": {},
   "source": [
    "<div style=\"border: 1px solid RGB(0,150,250);\" >\n",
    "<h3 style=\"margin: auto; padding: 20px; color: RGB(0,150,250); \">3.8 - Evolution des 5 pays qui ont le plus bénéficiés de l'aide alimentaire entre 2013 et 2016</h3>\n",
    "</div>"
   ]
  },
  {
   "cell_type": "code",
   "execution_count": 857,
   "id": "09d55114",
   "metadata": {},
   "outputs": [],
   "source": [
    "#Création d'un dataframe avec la zone, l'année et l'aide alimentaire puis groupby sur zone et année \n"
   ]
  },
  {
   "cell_type": "code",
   "execution_count": 858,
   "id": "6bd577b0",
   "metadata": {},
   "outputs": [],
   "source": [
    "#Création d'une liste contenant les 5 pays qui ont le plus bénéficiées de l'aide alimentaire\n"
   ]
  },
  {
   "cell_type": "code",
   "execution_count": 859,
   "id": "41612dbd",
   "metadata": {},
   "outputs": [],
   "source": [
    "#On filtre sur le dataframe avec notre liste\n"
   ]
  },
  {
   "cell_type": "code",
   "execution_count": 860,
   "id": "5680e72d",
   "metadata": {},
   "outputs": [],
   "source": [
    "# Affichage des pays avec l'aide alimentaire par année\n"
   ]
  },
  {
   "cell_type": "markdown",
   "id": "bd392dac",
   "metadata": {},
   "source": [
    "<div style=\"border: 1px solid RGB(0,150,250);\" >\n",
    "<h3 style=\"margin: auto; padding: 20px; color: RGB(0,150,250); \">3.9 - Pays avec le moins de disponibilité par habitant</h3>\n",
    "</div>"
   ]
  },
  {
   "cell_type": "code",
   "execution_count": 861,
   "id": "fb3a378b",
   "metadata": {},
   "outputs": [],
   "source": [
    "#Calcul de la disponibilité en kcal par personne par jour par pays\n"
   ]
  },
  {
   "cell_type": "code",
   "execution_count": 862,
   "id": "70c0f689",
   "metadata": {},
   "outputs": [],
   "source": [
    "#Affichage des 10 pays qui ont le moins de dispo alimentaire par personne \n"
   ]
  },
  {
   "cell_type": "markdown",
   "id": "2553ed12",
   "metadata": {},
   "source": [
    "<div style=\"border: 1px solid RGB(0,150,250);\" >\n",
    "<h3 style=\"margin: auto; padding: 20px; color: RGB(0,150,250); \">3.10 - Pays avec le plus de disponibilité par habitant</h3>\n",
    "</div>"
   ]
  },
  {
   "cell_type": "code",
   "execution_count": 863,
   "id": "63e835c6",
   "metadata": {},
   "outputs": [],
   "source": [
    "#Affichage des 10 pays qui ont le plus de dispo alimentaire par personne \n"
   ]
  },
  {
   "cell_type": "markdown",
   "id": "58d7248b",
   "metadata": {},
   "source": [
    "<div style=\"border: 1px solid RGB(0,150,250);\" >\n",
    "<h3 style=\"margin: auto; padding: 20px; color: RGB(0,150,250); \">3.11 - Exemple de la Thaïlande pour le Manioc</h3>\n",
    "</div>"
   ]
  },
  {
   "cell_type": "code",
   "execution_count": 864,
   "id": "ec9ca912",
   "metadata": {},
   "outputs": [],
   "source": [
    "#création d'un dataframe avec uniquement la Thaïlande \n"
   ]
  },
  {
   "cell_type": "code",
   "execution_count": 865,
   "id": "85693912",
   "metadata": {},
   "outputs": [],
   "source": [
    "#Calcul de la sous nutrition en Thaïlande\n"
   ]
  },
  {
   "cell_type": "code",
   "execution_count": 866,
   "id": "f19cd96e",
   "metadata": {},
   "outputs": [],
   "source": [
    "# On calcule la proportion exportée en fonction de la proportion\n"
   ]
  },
  {
   "cell_type": "markdown",
   "id": "7de4e914",
   "metadata": {},
   "source": [
    "<div style=\"background-color: RGB(0,150,250);\" >\n",
    "<h2 style=\"margin: auto; padding: 20px; color:#fff; \">Etape 6 - Analyse complémentaires</h2>\n",
    "</div>"
   ]
  },
  {
   "cell_type": "code",
   "execution_count": 867,
   "id": "e42062e9",
   "metadata": {},
   "outputs": [],
   "source": [
    "#Rajouter en dessous toutes les analyses complémtaires suite à la demande de mélanie :\n",
    "#\"et toutes les infos que tu trouverais utiles pour mettre en relief les pays qui semblent être \n",
    "#le plus en difficulté au niveau alimentaire\""
   ]
  }
 ],
 "metadata": {
  "kernelspec": {
   "display_name": "Python 3",
   "language": "python",
   "name": "python3"
  },
  "language_info": {
   "codemirror_mode": {
    "name": "ipython",
    "version": 3
   },
   "file_extension": ".py",
   "mimetype": "text/x-python",
   "name": "python",
   "nbconvert_exporter": "python",
   "pygments_lexer": "ipython3",
   "version": "3.12.2"
  }
 },
 "nbformat": 4,
 "nbformat_minor": 5
}
