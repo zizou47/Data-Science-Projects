{
 "cells": [
  {
   "cell_type": "code",
   "execution_count": null,
   "metadata": {},
   "outputs": [],
   "source": []
  },
  {
   "cell_type": "markdown",
   "metadata": {},
   "source": [
    "The proportion of the world population being undernourished in 2017 is : 7.1 %\n",
    "the alimentary disponibility in the world in 2017 is :  7635429382287555.0  Kcal.\n",
    "in 2017 we can feed 8579134137.0 persons\n",
    "he disponability of vegetable products in the world in 2017 is :  6300178932059760.0 Kcal\n",
    "propurtion human can be nutrited with vegetable products is : 93.84 %\n",
    "the number of human can be nutrited by vegetable product is :  7078852733.0 person\n",
    "The Proportion of global domestic availability that is attributed to animal feed is :  13.2 %\n",
    "The Proportion of global domestic availability that is attributed to human feed is :  49.5 %\n",
    "The Proportion of global domestic availability that is attributed to other use is :  8.8 %\n",
    "The Proportion of global domestic availability that is attributed to Exportations use is :  13.73 %\n",
    "The Proportion of global domestic availability that is attributed to Importations use is :  13.16 %\n",
    "Top 10 Countries by Percentage of Undernourished Population in 2017 we can see most contries is poor contries who have wars\n",
    "we can see contries Undernourished have problem in kcal disponibility\n",
    "Top 10 Countries by Import Dependency Ratio\n",
    "* netherland most contry import food duo to people have good income and kcal dispo per person\n",
    "* other contries either poorly or duo to income per person\n",
    "* all contries Countries by Food Aid Received Since 2013 have political problems (africa, asia)\n",
    "* there is correlation between aid feed and political situation in the country"
   ]
  },
  {
   "cell_type": "code",
   "execution_count": 1,
   "metadata": {},
   "outputs": [],
   "source": [
    "import pandas as pd\n",
    "\n"
   ]
  }
 ],
 "metadata": {
  "kernelspec": {
   "display_name": "Python 3",
   "language": "python",
   "name": "python3"
  },
  "language_info": {
   "codemirror_mode": {
    "name": "ipython",
    "version": 3
   },
   "file_extension": ".py",
   "mimetype": "text/x-python",
   "name": "python",
   "nbconvert_exporter": "python",
   "pygments_lexer": "ipython3",
   "version": "3.12.2"
  }
 },
 "nbformat": 4,
 "nbformat_minor": 2
}
